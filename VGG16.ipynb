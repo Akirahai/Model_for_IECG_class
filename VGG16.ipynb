{
  "cells": [
    {
      "cell_type": "code",
      "execution_count": 1,
      "metadata": {
        "id": "so3g52ujQdBe"
      },
      "outputs": [],
      "source": [
        "import torch\n",
        "import torchvision\n",
        "from torchvision import datasets, models, transforms\n",
        "from torchvision.io import ImageReadMode\n",
        "from torchvision.io import read_image\n",
        "from torchvision.datasets import ImageFolder\n",
        "import numpy as np\n",
        "from sklearn.model_selection import train_test_split\n",
        "import pandas as pd\n",
        "import numpy as np\n",
        "import pandas as pd\n",
        "import torch \n",
        "import matplotlib.pyplot as plt\n",
        "from scipy.io import loadmat\n",
        "import torch.nn as nn\n",
        "from sklearn.model_selection import train_test_split\n",
        "from torch.utils.data import DataLoader\n",
        "from torch.utils.data import Dataset\n",
        "import torch.nn.functional as F\n",
        "import os\n",
        "from torchvision import transforms as T\n",
        "import math\n",
        "from sklearn.metrics import *"
      ]
    },
    {
      "cell_type": "code",
      "execution_count": 2,
      "metadata": {
        "colab": {
          "base_uri": "https://localhost:8080/",
          "height": 36
        },
        "id": "zqFgIV1WQjEZ",
        "outputId": "afc59bcd-cb1a-4865-d505-e0b92fec5bfc"
      },
      "outputs": [
        {
          "data": {
            "text/plain": [
              "'cuda:0'"
            ]
          },
          "execution_count": 2,
          "metadata": {},
          "output_type": "execute_result"
        }
      ],
      "source": [
        "device = \"cuda:0\" if torch.cuda.is_available() else \"cpu\"\n",
        "device"
      ]
    },
    {
      "cell_type": "code",
      "execution_count": 3,
      "metadata": {
        "id": "1ZC5kM9NRIus"
      },
      "outputs": [],
      "source": [
        "class ECGimage_DB(Dataset):\n",
        "    def __init__(self, annotations_file, img_dir, transform=None, target_transform=None):\n",
        "        self.img_labels = pd.read_csv(annotations_file)\n",
        "        self.img_dir = img_dir \n",
        "        self.transform = transform\n",
        "        self.target_transform = target_transform\n",
        "\n",
        "    def __len__(self):\n",
        "        return len(self.img_labels)\n",
        "\n",
        "    def __getitem__(self, idx):\n",
        "        img_path = os.path.join(self.img_dir, self.img_labels.iloc[idx, 0] +'.png')\n",
        "        image = read_image(img_path, mode=ImageReadMode.RGB)\n",
        "        label = self.img_labels.iloc[idx, 1]\n",
        "        if self.transform:\n",
        "            image = self.transform(image)\n",
        "        if self.target_transform:\n",
        "            label = self.target_transform(label)\n",
        "        return image.float(), label-1"
      ]
    },
    {
      "cell_type": "code",
      "execution_count": 4,
      "metadata": {
        "id": "XdeywH3ff41D"
      },
      "outputs": [],
      "source": [
        "class ECGimage_DBv(Dataset):\n",
        "    def __init__(self, annotations_file, img_dir, transform=None, target_transform=None):\n",
        "        self.img_labels = pd.read_csv(annotations_file)\n",
        "        self.img_dir = img_dir \n",
        "        self.transform = transform\n",
        "        self.target_transform = target_transform\n",
        "\n",
        "    def __len__(self):\n",
        "        return len(self.img_labels)\n",
        "\n",
        "    def __getitem__(self, idx):\n",
        "        img_path = os.path.join(self.img_dir, self.img_labels.iloc[idx, 0] +'.png')\n",
        "        image = read_image(img_path, mode=ImageReadMode.RGB)\n",
        "        label = self.img_labels.iloc[idx, 1]\n",
        "        if self.transform:\n",
        "            image = self.transform(image)\n",
        "        if self.target_transform:\n",
        "            label = self.target_transform(label)\n",
        "        return image.float(), label-1"
      ]
    },
    {
      "cell_type": "code",
      "execution_count": 5,
      "metadata": {},
      "outputs": [],
      "source": [
        "class VGG16(nn.Module):\n",
        "    def __init__(self, num_classes=9):\n",
        "        super(VGG16, self).__init__()\n",
        "        self.layer1 = nn.Sequential(\n",
        "            nn.Conv2d(3, 64, kernel_size=3, stride=1, padding=1),\n",
        "            nn.BatchNorm2d(64),\n",
        "            nn.ReLU())\n",
        "        self.layer2 = nn.Sequential(\n",
        "            nn.Conv2d(64, 64, kernel_size=3, stride=1, padding=1),\n",
        "            nn.BatchNorm2d(64),\n",
        "            nn.ReLU(), \n",
        "            nn.MaxPool2d(kernel_size = 2, stride = 2))\n",
        "        self.layer3 = nn.Sequential(\n",
        "            nn.Conv2d(64, 128, kernel_size=3, stride=1, padding=1),\n",
        "            nn.BatchNorm2d(128),\n",
        "            nn.ReLU())\n",
        "        self.layer4 = nn.Sequential(\n",
        "            nn.Conv2d(128, 128, kernel_size=3, stride=1, padding=1),\n",
        "            nn.BatchNorm2d(128),\n",
        "            nn.ReLU(),\n",
        "            nn.MaxPool2d(kernel_size = 2, stride = 2))\n",
        "        self.layer5 = nn.Sequential(\n",
        "            nn.Conv2d(128, 256, kernel_size=3, stride=1, padding=1),\n",
        "            nn.BatchNorm2d(256),\n",
        "            nn.ReLU())\n",
        "        self.layer6 = nn.Sequential(\n",
        "            nn.Conv2d(256, 256, kernel_size=3, stride=1, padding=1),\n",
        "            nn.BatchNorm2d(256),\n",
        "            nn.ReLU())\n",
        "        self.layer7 = nn.Sequential(\n",
        "            nn.Conv2d(256, 256, kernel_size=3, stride=1, padding=1),\n",
        "            nn.BatchNorm2d(256),\n",
        "            nn.ReLU(),\n",
        "            nn.MaxPool2d(kernel_size = 2, stride = 2))\n",
        "        self.layer8 = nn.Sequential(\n",
        "            nn.Conv2d(256, 512, kernel_size=3, stride=1, padding=1),\n",
        "            nn.BatchNorm2d(512),\n",
        "            nn.ReLU())\n",
        "        self.layer9 = nn.Sequential(\n",
        "            nn.Conv2d(512, 512, kernel_size=3, stride=1, padding=1),\n",
        "            nn.BatchNorm2d(512),\n",
        "            nn.ReLU())\n",
        "        self.layer10 = nn.Sequential(\n",
        "            nn.Conv2d(512, 512, kernel_size=3, stride=1, padding=1),\n",
        "            nn.BatchNorm2d(512),\n",
        "            nn.ReLU(),\n",
        "            nn.MaxPool2d(kernel_size = 2, stride = 2))\n",
        "        self.layer11 = nn.Sequential(\n",
        "            nn.Conv2d(512, 512, kernel_size=3, stride=1, padding=1),\n",
        "            nn.BatchNorm2d(512),\n",
        "            nn.ReLU())\n",
        "        self.layer12 = nn.Sequential(\n",
        "            nn.Conv2d(512, 512, kernel_size=3, stride=1, padding=1),\n",
        "            nn.BatchNorm2d(512),\n",
        "            nn.ReLU())\n",
        "        self.layer13 = nn.Sequential(\n",
        "            nn.Conv2d(512, 512, kernel_size=3, stride=1, padding=1),\n",
        "            nn.BatchNorm2d(512),\n",
        "            nn.ReLU(),\n",
        "            nn.MaxPool2d(kernel_size = 2, stride = 2))\n",
        "        self.fc = nn.Sequential(\n",
        "            nn.Dropout(0.5),\n",
        "            nn.Linear(7*7*512, 4096),\n",
        "            nn.ReLU())\n",
        "        self.fc1 = nn.Sequential(\n",
        "            nn.Dropout(0.5),\n",
        "            nn.Linear(4096, 4096),\n",
        "            nn.ReLU())\n",
        "        self.fc2= nn.Sequential(\n",
        "            nn.Linear(4096, num_classes))\n",
        "        \n",
        "    def forward(self, x):\n",
        "        out = self.layer1(x)\n",
        "        out = self.layer2(out)\n",
        "        out = self.layer3(out)\n",
        "        out = self.layer4(out)\n",
        "        out = self.layer5(out)\n",
        "        out = self.layer6(out)\n",
        "        out = self.layer7(out)\n",
        "        out = self.layer8(out)\n",
        "        out = self.layer9(out)\n",
        "        out = self.layer10(out)\n",
        "        out = self.layer11(out)\n",
        "        out = self.layer12(out)\n",
        "        out = self.layer13(out)\n",
        "        out = out.reshape(out.size(0), -1)\n",
        "        out = self.fc(out)\n",
        "        out = self.fc1(out)\n",
        "        out = self.fc2(out)\n",
        "        return out"
      ]
    },
    {
      "cell_type": "code",
      "execution_count": 7,
      "metadata": {
        "id": "ctMa4oXaRftA"
      },
      "outputs": [],
      "source": [
        "model = VGG16().to(device)\n",
        "learning_rate = 1e-3\n",
        "optimizer = torch.optim.AdamW(model.parameters(), lr=learning_rate, weight_decay = 0.005)\n",
        "loss_fn = nn.CrossEntropyLoss()"
      ]
    },
    {
      "cell_type": "code",
      "execution_count": 8,
      "metadata": {
        "id": "REkWHXoeTNqX"
      },
      "outputs": [],
      "source": [
        "path=\"ECGimg_ts\"\n",
        "train_db=ECGimage_DB('train_image.csv',path)\n",
        "valid_db= ECGimage_DBv('val_image.csv',path)\n",
        "\n",
        "train_dl=DataLoader(train_db, batch_size=16)\n",
        "valid_dl=DataLoader(valid_db, batch_size=16)\n",
        "# image = read_image(os.path.join(path,'A0001.png'),mode=ImageReadMode.RGB)\n",
        "\n",
        "# print(image.size())\n",
        "# flatten = nn.Flatten()\n",
        "# flat_image = flatten(image).float()\n",
        "# print(flat_image.size())"
      ]
    },
    {
      "cell_type": "code",
      "execution_count": 9,
      "metadata": {
        "id": "TeA8awe-WbNN"
      },
      "outputs": [],
      "source": [
        "def train_loop(dataloader, model, loss_fn, optimizer):\n",
        "    size = len(dataloader.dataset)\n",
        "    for batch, (X, y) in enumerate(dataloader,0):\n",
        "        X = X.to(device)\n",
        "        y = y.to(device)\n",
        "        # Backpropagation\n",
        "        pred = model(X)\n",
        "        optimizer.zero_grad()\n",
        "        loss = loss_fn(pred, y)\n",
        "        loss.backward()\n",
        "        optimizer.step()\n",
        "\n",
        "        if batch % 100 == 0:\n",
        "            loss, current = loss.item(), batch * len(X)\n",
        "            print(f\"loss: {loss:>7f}  [{current:>5d}/{size:>5d}]\")"
      ]
    },
    {
      "cell_type": "code",
      "execution_count": 10,
      "metadata": {
        "id": "u2PLYn_CWfgN"
      },
      "outputs": [],
      "source": [
        "def test_loop(dataloader, model, loss_fn):\n",
        "    size = len(dataloader.dataset)\n",
        "    num_batches = len(dataloader)\n",
        "    test_loss, correct = 0, 0\n",
        "    running_y, running_pred = [], []\n",
        "\n",
        "    with torch.no_grad():\n",
        "        for X, y in dataloader:\n",
        "            X = X.to(device)\n",
        "            y = y.to(device)\n",
        "            pred = model(X)\n",
        "            pred1 = torch.argmax(pred,1)\n",
        "            labels = list(y.cpu().numpy())\n",
        "            \n",
        "            preds = list(pred1.cpu().numpy())\n",
        "            \n",
        "            running_y.extend(labels)\n",
        "            running_pred.extend(preds)\n",
        "            test_loss += loss_fn(pred, y).item()\n",
        "            # correct += (pred.argmax(1) == y).type(torch.float).sum().item()\n",
        "    f1 = f1_score(running_y,running_pred, average = 'macro')\n",
        "\n",
        "    test_loss /= num_batches\n",
        "    correct /= size\n",
        "    # print(f\"Test Error: \\n Accuracy: {(100*correct):>0.1f}%, Avg loss: {test_loss:>8f} \\n\")\n",
        "    print(f\"Test Error: \\n F1: {(f1):>0.1f}, Avg loss: {test_loss:>8f} \\n\")"
      ]
    },
    {
      "cell_type": "code",
      "execution_count": 11,
      "metadata": {
        "colab": {
          "background_save": true,
          "base_uri": "https://localhost:8080/"
        },
        "id": "vZmge5SXWjxJ",
        "outputId": "851ed083-07da-4b29-df8b-ee5a3ade14bf"
      },
      "outputs": [
        {
          "name": "stdout",
          "output_type": "stream",
          "text": [
            "Epoch 1\n",
            "-------------------------------\n",
            "loss: 2.163265  [    0/ 6189]\n",
            "loss: 1.879197  [ 1600/ 6189]\n",
            "loss: 2.223004  [ 3200/ 6189]\n",
            "loss: 2.192967  [ 4800/ 6189]\n",
            "Test Error: \n",
            " F1: 0.1, Avg loss: 2.042215 \n",
            "\n",
            "Epoch 2\n",
            "-------------------------------\n",
            "loss: 2.253388  [    0/ 6189]\n",
            "loss: 1.970273  [ 1600/ 6189]\n",
            "loss: 2.034817  [ 3200/ 6189]\n",
            "loss: 2.082483  [ 4800/ 6189]\n",
            "Test Error: \n",
            " F1: 0.0, Avg loss: 2.021634 \n",
            "\n",
            "Epoch 3\n",
            "-------------------------------\n",
            "loss: 2.289474  [    0/ 6189]\n",
            "loss: 1.888570  [ 1600/ 6189]\n",
            "loss: 2.000293  [ 3200/ 6189]\n",
            "loss: 2.074667  [ 4800/ 6189]\n",
            "Test Error: \n",
            " F1: 0.1, Avg loss: 2.058278 \n",
            "\n",
            "Epoch 4\n",
            "-------------------------------\n",
            "loss: 2.296127  [    0/ 6189]\n",
            "loss: 1.857420  [ 1600/ 6189]\n",
            "loss: 2.046614  [ 3200/ 6189]\n",
            "loss: 2.187293  [ 4800/ 6189]\n",
            "Test Error: \n",
            " F1: 0.1, Avg loss: 2.026054 \n",
            "\n",
            "Epoch 5\n",
            "-------------------------------\n",
            "loss: 2.132771  [    0/ 6189]\n",
            "loss: 2.010432  [ 1600/ 6189]\n",
            "loss: 2.012146  [ 3200/ 6189]\n",
            "loss: 2.110261  [ 4800/ 6189]\n",
            "Test Error: \n",
            " F1: 0.0, Avg loss: 2.004054 \n",
            "\n",
            "Epoch 6\n",
            "-------------------------------\n",
            "loss: 2.166724  [    0/ 6189]\n",
            "loss: 1.954693  [ 1600/ 6189]\n",
            "loss: 2.044272  [ 3200/ 6189]\n",
            "loss: 2.118979  [ 4800/ 6189]\n",
            "Test Error: \n",
            " F1: 0.1, Avg loss: 2.016671 \n",
            "\n",
            "Epoch 7\n",
            "-------------------------------\n",
            "loss: 2.117416  [    0/ 6189]\n",
            "loss: 2.005566  [ 1600/ 6189]\n",
            "loss: 2.045992  [ 3200/ 6189]\n",
            "loss: 2.097733  [ 4800/ 6189]\n",
            "Test Error: \n",
            " F1: 0.1, Avg loss: 1.990121 \n",
            "\n",
            "Epoch 8\n",
            "-------------------------------\n",
            "loss: 2.165512  [    0/ 6189]\n",
            "loss: 2.001281  [ 1600/ 6189]\n",
            "loss: 2.022379  [ 3200/ 6189]\n",
            "loss: 2.134972  [ 4800/ 6189]\n",
            "Test Error: \n",
            " F1: 0.1, Avg loss: 1.985683 \n",
            "\n",
            "Epoch 9\n",
            "-------------------------------\n",
            "loss: 2.091502  [    0/ 6189]\n",
            "loss: 1.999805  [ 1600/ 6189]\n",
            "loss: 2.025725  [ 3200/ 6189]\n",
            "loss: 2.099895  [ 4800/ 6189]\n",
            "Test Error: \n",
            " F1: 0.1, Avg loss: 1.980390 \n",
            "\n",
            "Epoch 10\n",
            "-------------------------------\n",
            "loss: 2.145897  [    0/ 6189]\n",
            "loss: 2.005378  [ 1600/ 6189]\n",
            "loss: 2.051599  [ 3200/ 6189]\n",
            "loss: 2.177980  [ 4800/ 6189]\n",
            "Test Error: \n",
            " F1: 0.1, Avg loss: 1.958234 \n",
            "\n",
            "Epoch 11\n",
            "-------------------------------\n",
            "loss: 2.092378  [    0/ 6189]\n",
            "loss: 1.939103  [ 1600/ 6189]\n",
            "loss: 1.922807  [ 3200/ 6189]\n",
            "loss: 1.953301  [ 4800/ 6189]\n",
            "Test Error: \n",
            " F1: 0.1, Avg loss: 1.858467 \n",
            "\n",
            "Epoch 12\n",
            "-------------------------------\n",
            "loss: 2.005029  [    0/ 6189]\n"
          ]
        }
      ],
      "source": [
        "epochs = 50\n",
        "for t in range(epochs):\n",
        "    print(f\"Epoch {t+1}\\n-------------------------------\")\n",
        "    train_loop(train_dl, model, loss_fn, optimizer)\n",
        "    test_loop(valid_dl, model, loss_fn)\n",
        "print(\"Done!\")"
      ]
    }
  ],
  "metadata": {
    "colab": {
      "provenance": []
    },
    "kernelspec": {
      "display_name": "IECG_class",
      "language": "python",
      "name": "python3"
    },
    "language_info": {
      "codemirror_mode": {
        "name": "ipython",
        "version": 3
      },
      "file_extension": ".py",
      "mimetype": "text/x-python",
      "name": "python",
      "nbconvert_exporter": "python",
      "pygments_lexer": "ipython3",
      "version": "3.10.9"
    },
    "vscode": {
      "interpreter": {
        "hash": "bbcdeb7d15dcac61ca91bee53812faeef55a0a155c00ab6e46b2ea63ce27864b"
      }
    }
  },
  "nbformat": 4,
  "nbformat_minor": 0
}
